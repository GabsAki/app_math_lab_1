{
 "cells": [
  {
   "cell_type": "markdown",
   "metadata": {},
   "source": [
    "<p style=\"font-family: Arial; font-size:3em;color:black;\"> Lab 1 </p>"
   ]
  },
  {
   "cell_type": "markdown",
   "metadata": {},
   "source": [
    "Students name in this Group:\n",
    "- Gabriel Okazaki\n",
    "- Julio Socher\n",
    "- Kateryna Solonenko\n",
    "- Mohit Sabharwal\n",
    "- Riya Gupta\n",
    "- Vaibhav Saini"
   ]
  },
  {
   "cell_type": "code",
   "execution_count": 1,
   "metadata": {},
   "outputs": [],
   "source": [
    "# importing numpy\n",
    "import numpy as np"
   ]
  },
  {
   "cell_type": "code",
   "execution_count": 7,
   "metadata": {},
   "outputs": [
    {
     "name": "stdout",
     "output_type": "stream",
     "text": [
      "Array: [1 2 3 5 0]\n",
      "There are 4 non-zero elements.\n"
     ]
    }
   ],
   "source": [
    "# Create a numpy array with the elements \"1, 2, 3, 5, 0\", print the array and test if all of its elements are non-zero.\n",
    "a = np.array([1, 2, 3, 5, 0])\n",
    "print(f\"Array: {a}\")\n",
    "print(f\"There are {np.count_nonzero(a)} non-zero elements.\")"
   ]
  },
  {
   "cell_type": "code",
   "execution_count": 8,
   "metadata": {},
   "outputs": [
    {
     "name": "stdout",
     "output_type": "stream",
     "text": [
      "Array: [ 3 -1  3  7  2]\n",
      "There are 5 non-zero elements.\n"
     ]
    }
   ],
   "source": [
    "# Create a numpy array with the elements \"3, -1, 3, 7, 2\", print the array and test if any of its elements is non-zero.\n",
    "a = np.array([3, -1, 3, 7, 2])\n",
    "print(f\"Array: {a}\")\n",
    "print(f\"There are {np.count_nonzero(a)} non-zero elements.\")"
   ]
  },
  {
   "cell_type": "code",
   "execution_count": 9,
   "metadata": {},
   "outputs": [
    {
     "name": "stdout",
     "output_type": "stream",
     "text": [
      "Array: [0 0 0 0]\n",
      "There are 0 non-zero elements.\n"
     ]
    }
   ],
   "source": [
    "# Create a numpy array with the elements \"0, 0, 0, 0\", print the array and test if any of its elements is non-zero.\n",
    "a = np.array([0, 0, 0, 0])\n",
    "print(f\"Array: {a}\")\n",
    "print(f\"There are {np.count_nonzero(a)} non-zero elements.\")"
   ]
  },
  {
   "cell_type": "code",
   "execution_count": 10,
   "metadata": {},
   "outputs": [
    {
     "name": "stdout",
     "output_type": "stream",
     "text": [
      "Array: [56 -2  7]\n",
      "Memory required to store array: 24.\n"
     ]
    }
   ],
   "source": [
    "# Create a numpy array with the elements \"56, -2, 7\", print the array and the amount of memory required to store it.\n",
    "a = np.array([56, -2, 7])\n",
    "print(f\"Array: {a}\")\n",
    "print(f\"Memory required to store array: {a.itemsize*a.size}.\")"
   ]
  },
  {
   "cell_type": "code",
   "execution_count": 4,
   "metadata": {},
   "outputs": [
    {
     "name": "stdout",
     "output_type": "stream",
     "text": [
      "Zeros array: [0. 0. 0. 0. 0. 0. 0. 0. 0. 0.]\n",
      "Ones array: [1. 1. 1. 1. 1. 1.]\n",
      "Ones array: [3. 3. 3. 3. 3. 3. 3. 3. 3. 3. 3. 3.]\n"
     ]
    }
   ],
   "source": [
    "# Create a numpy array with 10 zeros and print the array.\n",
    "zeros_array = np.zeros(10)\n",
    "print(f\"Zeros array: {zeros_array}\")\n",
    "\n",
    "# Create a numpy array with 6 ones and print the array.\n",
    "ones_array = np.ones(6)\n",
    "print(f\"Ones array: {ones_array}\")\n",
    "\n",
    "# Create a numpy array with 12 '3's and print the array. [3 3 3 3 3 3 3 3 3 3 3 3]\n",
    "threes_array = 3 * np.ones(12)\n",
    "print(f\"Ones array: {threes_array}\")\n"
   ]
  },
  {
   "cell_type": "code",
   "execution_count": 7,
   "metadata": {},
   "outputs": [
    {
     "name": "stdout",
     "output_type": "stream",
     "text": [
      "Array: [ 8  9 10 11 12 13 14 15 16 17 18 19 20]\n",
      "Even array: [ 8 10 12 14 16 18 20]\n"
     ]
    }
   ],
   "source": [
    "# Create a numpy array of the integers from 8 to 20 and print the array. (make sure 20 itself is included) hint:  use \"arange\" method\n",
    "a = np.arange(8, 21)\n",
    "print(f'Array: {a}')\n",
    "\n",
    "# Create a numpy array of the even integers from 8 to 20 and print the array. (make sure 20 itself is included)   hint:  use \"arange\" method\n",
    "even_array = np.arange(8, 21, step=2)\n",
    "print(f'Even array: {even_array}')"
   ]
  },
  {
   "cell_type": "code",
   "execution_count": 14,
   "metadata": {},
   "outputs": [
    {
     "name": "stdout",
     "output_type": "stream",
     "text": [
      "Mean of 100 array: 2.00014144924176\n",
      "Max of 100 array: 3.7601916756287728\n",
      "Min of 100 array: 0.6049167871774486\n",
      "Std of 100 array: 0.5833842551273521\n",
      "Mean of 1k array: 2.0198008067297\n",
      "Max of 1k array: 3.7393380125914164\n",
      "Min of 1k array: 0.6762141610980112\n",
      "Std of 1k array: 0.5030432628609951\n",
      "Mean of 1M array: 1.9996854517661153\n",
      "Max of 1M array: 4.626990987370754\n",
      "Min of 1M array: -0.5199712220979422\n",
      "Std of 1M array: 0.5000007979672069\n",
      "Observation: Mean and std get closer to their expected value the larget the sample is.\n"
     ]
    }
   ],
   "source": [
    "# Create a numpy array consisting of 100 random elements from normal distribution with mean of 2 and std of 0.5. Print the mean, max, min and std of the array.\n",
    "a = np.random.normal(loc=2,scale=0.5,size=100)\n",
    "print(f'Mean of 100 array: {a.mean()}')\n",
    "print(f'Max of 100 array: {a.max()}')\n",
    "print(f'Min of 100 array: {a.min()}')\n",
    "print(f'Std of 100 array: {a.std()}')\n",
    "\n",
    "# Create a numpy array consisting of 1000 random elements from normal distribution with mean of 2 and std of 0.5. Print the mean, max, min and std of the array.\n",
    "a_thousand = np.random.normal(loc=2,scale=0.5,size=1000)\n",
    "print(f'Mean of 1k array: {a_thousand.mean()}')\n",
    "print(f'Max of 1k array: {a_thousand.max()}')\n",
    "print(f'Min of 1k array: {a_thousand.min()}')\n",
    "print(f'Std of 1k array: {a_thousand.std()}')\n",
    "\n",
    "# Create a numpy array consisting of 1000000 random elements from normal distribution with mean of 2 and std of 0.5. Print the mean, max, min and std of the array.\n",
    "a_mil = np.random.normal(loc=2,scale=0.5,size=1000000)\n",
    "print(f'Mean of 1M array: {a_mil.mean()}')\n",
    "print(f'Max of 1M array: {a_mil.max()}')\n",
    "print(f'Min of 1M array: {a_mil.min()}')\n",
    "print(f'Std of 1M array: {a_mil.std()}')\n",
    "\n",
    "# (Bonus question) Looking at the three above examples with 1000, 5000, and 10000 random elements, do you have any observations about mean and std values?\n",
    "print(\"Observation: Mean and std get closer to their expected value the larget the sample is.\")"
   ]
  },
  {
   "cell_type": "code",
   "execution_count": null,
   "metadata": {},
   "outputs": [],
   "source": []
  }
 ],
 "metadata": {
  "kernelspec": {
   "display_name": "Python 3 (ipykernel)",
   "language": "python",
   "name": "python3"
  },
  "language_info": {
   "codemirror_mode": {
    "name": "ipython",
    "version": 3
   },
   "file_extension": ".py",
   "mimetype": "text/x-python",
   "name": "python",
   "nbconvert_exporter": "python",
   "pygments_lexer": "ipython3",
   "version": "3.10.4"
  }
 },
 "nbformat": 4,
 "nbformat_minor": 1
}

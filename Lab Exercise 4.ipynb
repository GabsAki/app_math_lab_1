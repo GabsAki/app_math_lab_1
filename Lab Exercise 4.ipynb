{
 "cells": [
  {
   "cell_type": "markdown",
   "metadata": {},
   "source": [
    "<p style=\"font-family: Arial; font-size:3em;color:black;\"> Lab Exercise 4 </p>"
   ]
  },
  {
   "cell_type": "markdown",
   "metadata": {},
   "source": [
    "Students name in this Group:\n",
    "- Gabriel Okazaki\n",
    "- Julio Socher\n",
    "- Kateryna Solonenko\n",
    "- Mohit Sabharwal\n",
    "- Riya Gupta\n",
    "- Vaibhav Saini"
   ]
  },
  {
   "cell_type": "code",
   "execution_count": 1,
   "metadata": {},
   "outputs": [],
   "source": [
    "messages = [\n",
    "    'college student',\n",
    "    'airport taxi driver',\n",
    "    'Toronto art museum',\n",
    "    'life art',\n",
    "    'machine learning student'\n",
    "]"
   ]
  },
  {
   "cell_type": "code",
   "execution_count": 2,
   "metadata": {},
   "outputs": [],
   "source": [
    "import pandas as pd"
   ]
  },
  {
   "cell_type": "code",
   "execution_count": 3,
   "metadata": {},
   "outputs": [
    {
     "data": {
      "text/html": [
       "<div>\n",
       "<style scoped>\n",
       "    .dataframe tbody tr th:only-of-type {\n",
       "        vertical-align: middle;\n",
       "    }\n",
       "\n",
       "    .dataframe tbody tr th {\n",
       "        vertical-align: top;\n",
       "    }\n",
       "\n",
       "    .dataframe thead th {\n",
       "        text-align: right;\n",
       "    }\n",
       "</style>\n",
       "<table border=\"1\" class=\"dataframe\">\n",
       "  <thead>\n",
       "    <tr style=\"text-align: right;\">\n",
       "      <th></th>\n",
       "      <th>message</th>\n",
       "    </tr>\n",
       "  </thead>\n",
       "  <tbody>\n",
       "    <tr>\n",
       "      <th>0</th>\n",
       "      <td>college student</td>\n",
       "    </tr>\n",
       "    <tr>\n",
       "      <th>1</th>\n",
       "      <td>airport taxi driver</td>\n",
       "    </tr>\n",
       "    <tr>\n",
       "      <th>2</th>\n",
       "      <td>Toronto art museum</td>\n",
       "    </tr>\n",
       "    <tr>\n",
       "      <th>3</th>\n",
       "      <td>life art</td>\n",
       "    </tr>\n",
       "    <tr>\n",
       "      <th>4</th>\n",
       "      <td>machine learning student</td>\n",
       "    </tr>\n",
       "  </tbody>\n",
       "</table>\n",
       "</div>"
      ],
      "text/plain": [
       "                    message\n",
       "0           college student\n",
       "1       airport taxi driver\n",
       "2        Toronto art museum\n",
       "3                  life art\n",
       "4  machine learning student"
      ]
     },
     "execution_count": 3,
     "metadata": {},
     "output_type": "execute_result"
    }
   ],
   "source": [
    "messages_df = pd.DataFrame(messages, columns=['message'])\n",
    "messages_df.head()"
   ]
  },
  {
   "cell_type": "code",
   "execution_count": 4,
   "metadata": {},
   "outputs": [],
   "source": [
    "def message_tokenize(message):\n",
    "    return message.split()"
   ]
  },
  {
   "cell_type": "code",
   "execution_count": 5,
   "metadata": {},
   "outputs": [
    {
     "data": {
      "text/html": [
       "<div>\n",
       "<style scoped>\n",
       "    .dataframe tbody tr th:only-of-type {\n",
       "        vertical-align: middle;\n",
       "    }\n",
       "\n",
       "    .dataframe tbody tr th {\n",
       "        vertical-align: top;\n",
       "    }\n",
       "\n",
       "    .dataframe thead th {\n",
       "        text-align: right;\n",
       "    }\n",
       "</style>\n",
       "<table border=\"1\" class=\"dataframe\">\n",
       "  <thead>\n",
       "    <tr style=\"text-align: right;\">\n",
       "      <th></th>\n",
       "      <th>message</th>\n",
       "    </tr>\n",
       "  </thead>\n",
       "  <tbody>\n",
       "    <tr>\n",
       "      <th>0</th>\n",
       "      <td>[college, student]</td>\n",
       "    </tr>\n",
       "    <tr>\n",
       "      <th>1</th>\n",
       "      <td>[airport, taxi, driver]</td>\n",
       "    </tr>\n",
       "    <tr>\n",
       "      <th>2</th>\n",
       "      <td>[Toronto, art, museum]</td>\n",
       "    </tr>\n",
       "    <tr>\n",
       "      <th>3</th>\n",
       "      <td>[life, art]</td>\n",
       "    </tr>\n",
       "    <tr>\n",
       "      <th>4</th>\n",
       "      <td>[machine, learning, student]</td>\n",
       "    </tr>\n",
       "  </tbody>\n",
       "</table>\n",
       "</div>"
      ],
      "text/plain": [
       "                        message\n",
       "0            [college, student]\n",
       "1       [airport, taxi, driver]\n",
       "2        [Toronto, art, museum]\n",
       "3                   [life, art]\n",
       "4  [machine, learning, student]"
      ]
     },
     "execution_count": 5,
     "metadata": {},
     "output_type": "execute_result"
    }
   ],
   "source": [
    "messages_df['message'] = messages_df['message'].apply(message_tokenize)\n",
    "messages_df.head()"
   ]
  },
  {
   "cell_type": "code",
   "execution_count": 6,
   "metadata": {},
   "outputs": [
    {
     "name": "stdout",
     "output_type": "stream",
     "text": [
      "11 \n",
      "\n",
      "{'college': 3, 'student': 9, 'airport': 1, 'taxi': 10, 'driver': 4, 'Toronto': 0, 'art': 2, 'museum': 8, 'life': 6, 'machine': 7, 'learning': 5}\n"
     ]
    }
   ],
   "source": [
    "from sklearn.feature_extraction.text import CountVectorizer\n",
    "bow_transformer = CountVectorizer(analyzer=message_tokenize).fit(messages)\n",
    "print(len(bow_transformer.vocabulary_),'\\n')\n",
    "print((bow_transformer.vocabulary_))"
   ]
  },
  {
   "cell_type": "code",
   "execution_count": 7,
   "metadata": {},
   "outputs": [
    {
     "name": "stdout",
     "output_type": "stream",
     "text": [
      "['airport' 'art' 'college' 'driver' 'learning' 'life' 'machine' 'museum'\n",
      " 'student' 'taxi' 'toronto']\n",
      "[[0 0 1 0 0 0 0 0 1 0 0]\n",
      " [1 0 0 1 0 0 0 0 0 1 0]\n",
      " [0 1 0 0 0 0 0 1 0 0 1]\n",
      " [0 1 0 0 0 1 0 0 0 0 0]\n",
      " [0 0 0 0 1 0 1 0 1 0 0]]\n"
     ]
    }
   ],
   "source": [
    "vectorizer = CountVectorizer()\n",
    "X = vectorizer.fit_transform(messages)\n",
    "print(vectorizer.get_feature_names_out())\n",
    "print(X.toarray())"
   ]
  },
  {
   "cell_type": "code",
   "execution_count": 15,
   "metadata": {},
   "outputs": [
    {
     "data": {
      "text/plain": [
       "array([2.09861229, 1.69314718, 2.09861229, 2.09861229, 2.09861229,\n",
       "       2.09861229, 2.09861229, 2.09861229, 1.69314718, 2.09861229,\n",
       "       2.09861229])"
      ]
     },
     "execution_count": 15,
     "metadata": {},
     "output_type": "execute_result"
    }
   ],
   "source": [
    "from sklearn.feature_extraction.text import TfidfTransformer\n",
    "\n",
    "tfidf_transformer = TfidfTransformer().fit(X)\n",
    "tfidf_transformer.idf_"
   ]
  },
  {
   "cell_type": "code",
   "execution_count": 16,
   "metadata": {},
   "outputs": [
    {
     "name": "stdout",
     "output_type": "stream",
     "text": [
      "The IDF score of \"college\" is: 2.09861228866811 \n",
      "The IDF score of \"art\" is: 1.6931471805599454 \n"
     ]
    }
   ],
   "source": [
    "# create dictionary to find a idf of each word\n",
    "word2idf = dict(zip(vectorizer.get_feature_names_out(), tfidf_transformer.idf_))\n",
    "\n",
    "print(f'The IDF score of \"college\" is: {word2idf[\"college\"]} ')\n",
    "print(f'The IDF score of \"art\" is: {word2idf[\"art\"]} ')"
   ]
  },
  {
   "cell_type": "code",
   "execution_count": 17,
   "metadata": {},
   "outputs": [
    {
     "name": "stdout",
     "output_type": "stream",
     "text": [
      "IDF for ´college´ should be using the formula taught in class: 0.6989700043360189\n",
      "IDF for ´art´ should be using the formula taught in class: 0.3979400086720376\n"
     ]
    }
   ],
   "source": [
    "import math\n",
    "\n",
    "#IDF formula that was taught in class is different from what is used by scikit-learn\n",
    "print(f'IDF for ´college´ should be using the formula taught in class: {math.log10(5/1)}')\n",
    "print(f'IDF for ´art´ should be using the formula taught in class: {math.log10(5/2)}')\n"
   ]
  },
  {
   "cell_type": "code",
   "execution_count": 18,
   "metadata": {},
   "outputs": [
    {
     "name": "stdout",
     "output_type": "stream",
     "text": [
      "IDF for ´college´ using sklearn TfidfTransformer formula: 2.09861228866811\n",
      "IDF for ´art´ using sklearn TfidfTransformer formula: 1.6931471805599454\n"
     ]
    }
   ],
   "source": [
    "print(f'IDF for ´college´ using sklearn TfidfTransformer formula: {math.log((1+5)/(1+1))+1}')\n",
    "print(f'IDF for ´art´ using sklearn TfidfTransformer formula: {math.log((1+5)/(1+2))+1}')\n",
    "#Formula reference: https://scikit-learn.org/stable/modules/generated/sklearn.feature_extraction.text.TfidfTransformer.html#sklearn.feature_extraction.text.TfidfTransformer"
   ]
  },
  {
   "cell_type": "code",
   "execution_count": null,
   "metadata": {},
   "outputs": [],
   "source": []
  }
 ],
 "metadata": {
  "kernelspec": {
   "display_name": "Python 3 (ipykernel)",
   "language": "python",
   "name": "python3"
  },
  "language_info": {
   "codemirror_mode": {
    "name": "ipython",
    "version": 3
   },
   "file_extension": ".py",
   "mimetype": "text/x-python",
   "name": "python",
   "nbconvert_exporter": "python",
   "pygments_lexer": "ipython3",
   "version": "3.10.2"
  }
 },
 "nbformat": 4,
 "nbformat_minor": 2
}

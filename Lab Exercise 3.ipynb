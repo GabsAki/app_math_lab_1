{
 "cells": [
  {
   "cell_type": "markdown",
   "metadata": {},
   "source": [
    "<p style=\"font-family: Arial; font-size:3em;color:black;\"> Lab Exercise 3 </p>"
   ]
  },
  {
   "cell_type": "markdown",
   "metadata": {},
   "source": [
    "Students name in this Group:\n",
    "- Gabriel Okazaki\n",
    "- Julio Socher\n",
    "- Kateryna Solonenko\n",
    "- Mohit Sabharwal\n",
    "- Riya Gupta\n",
    "- Vaibhav Saini"
   ]
  },
  {
   "cell_type": "code",
   "execution_count": 1,
   "metadata": {},
   "outputs": [],
   "source": [
    "import numpy as np\n",
    "from numpy.linalg import inv\n",
    "from numpy.linalg import det"
   ]
  },
  {
   "cell_type": "code",
   "execution_count": 21,
   "metadata": {},
   "outputs": [
    {
     "name": "stdout",
     "output_type": "stream",
     "text": [
      "A matrix:\n",
      "[[5 2 3]\n",
      " [6 1 3]\n",
      " [2 4 1]]\n",
      "B matrix:\n",
      "[[5 2]\n",
      " [6 1]]\n",
      "C matrix:\n",
      "[[1 3]\n",
      " [4 1]]\n"
     ]
    }
   ],
   "source": [
    "a_mat = np.array([[5, 2, 3],[6,1,3],[2,4,1]])\n",
    "print('A matrix:')\n",
    "print(a_mat)\n",
    "\n",
    "b_mat = a_mat[:2, 0:2]\n",
    "print('B matrix:')\n",
    "print(b_mat)\n",
    "\n",
    "print('C matrix:')\n",
    "print(a_mat[1:, 1:])"
   ]
  },
  {
   "cell_type": "code",
   "execution_count": 16,
   "metadata": {},
   "outputs": [
    {
     "name": "stdout",
     "output_type": "stream",
     "text": [
      "[[ 4 -7  4]\n",
      " [ 5  6 -1]\n",
      " [-4  2  5]]\n"
     ]
    }
   ],
   "source": [
    "d_mat = np.array([[4, -7, 4], [5, 6, -1], [-4, 2, 5]])\n",
    "print(d_mat)"
   ]
  },
  {
   "cell_type": "code",
   "execution_count": 20,
   "metadata": {},
   "outputs": [
    {
     "name": "stdout",
     "output_type": "stream",
     "text": [
      "AD matrix:\n",
      "[[ 18 -17  33]\n",
      " [ 17 -30  38]\n",
      " [ 24  12   9]]\n",
      "DA matrix:\n",
      "[[-14  17  -5]\n",
      " [ 59  12  32]\n",
      " [  2  14  -1]]\n",
      "The matrices are different!\n"
     ]
    }
   ],
   "source": [
    "ad_mat = np.matmul(a_mat, d_mat)\n",
    "print('AD matrix:')\n",
    "print(ad_mat)\n",
    "\n",
    "da_mat = np.matmul(d_mat, a_mat)\n",
    "print('DA matrix:')\n",
    "print(da_mat)\n",
    "\n",
    "print('The matrices are different!')"
   ]
  },
  {
   "cell_type": "code",
   "execution_count": 24,
   "metadata": {},
   "outputs": [
    {
     "name": "stdout",
     "output_type": "stream",
     "text": [
      "Manual calculation of determinant of B: -7\n",
      "Manual inverse B matrix:\n",
      "[[-0.14285714  0.28571429]\n",
      " [ 0.85714286 -0.71428571]]\n",
      "NumPy calculation of determinant of B: -6.999999999999999\n",
      "Numpy inverse B matrix:\n",
      "[[-0.14285714  0.28571429]\n",
      " [ 0.85714286 -0.71428571]]\n"
     ]
    }
   ],
   "source": [
    "print(f'Manual calculation of determinant of B: {5*1-2*6}')\n",
    "\n",
    "man_inv = 1/(5*1-2*6)*np.array([[1,-2],[-6,5]])\n",
    "print('Manual inverse B matrix:')\n",
    "print(man_inv)\n",
    "\n",
    "print(f'NumPy calculation of determinant of B: {det(b_mat)}')\n",
    "print(f'Numpy inverse B matrix:')\n",
    "print(inv(b_mat))"
   ]
  },
  {
   "cell_type": "code",
   "execution_count": 27,
   "metadata": {},
   "outputs": [
    {
     "name": "stdout",
     "output_type": "stream",
     "text": [
      "Inverse of D:\n",
      "[[ 0.07785888  0.10462287 -0.04136253]\n",
      " [-0.05109489  0.08759124  0.05839416]\n",
      " [ 0.08272506  0.0486618   0.14355231]]\n",
      "DDinv matrix:\n",
      "[[ 1.00000000e+00  1.11022302e-16  0.00000000e+00]\n",
      " [ 6.93889390e-17  1.00000000e+00 -5.55111512e-17]\n",
      " [-1.38777878e-17 -8.32667268e-17  1.00000000e+00]]\n",
      "DinvD matrix:\n",
      "[[ 1.00000000e+00  6.93889390e-17  6.93889390e-18]\n",
      " [ 2.77555756e-17  1.00000000e+00 -2.08166817e-17]\n",
      " [ 0.00000000e+00  0.00000000e+00  1.00000000e+00]]\n"
     ]
    }
   ],
   "source": [
    "print('Inverse of D:')\n",
    "print(inv(d_mat))\n",
    "print('DDinv matrix:')\n",
    "print(np.matmul(d_mat, inv(d_mat)))\n",
    "print('DinvD matrix:')\n",
    "print(np.matmul(inv(d_mat), d_mat))"
   ]
  },
  {
   "cell_type": "code",
   "execution_count": null,
   "metadata": {},
   "outputs": [],
   "source": []
  }
 ],
 "metadata": {
  "kernelspec": {
   "display_name": "Python 3 (ipykernel)",
   "language": "python",
   "name": "python3"
  },
  "language_info": {
   "codemirror_mode": {
    "name": "ipython",
    "version": 3
   },
   "file_extension": ".py",
   "mimetype": "text/x-python",
   "name": "python",
   "nbconvert_exporter": "python",
   "pygments_lexer": "ipython3",
   "version": "3.10.4"
  }
 },
 "nbformat": 4,
 "nbformat_minor": 1
}
